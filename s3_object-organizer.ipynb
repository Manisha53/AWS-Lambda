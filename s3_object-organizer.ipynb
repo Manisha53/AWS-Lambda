{
 "cells": [
  {
   "cell_type": "code",
   "execution_count": 1,
   "id": "51d0b3ef",
   "metadata": {},
   "outputs": [],
   "source": [
    "import boto3\n",
    "from datetime import datetime"
   ]
  },
  {
   "cell_type": "code",
   "execution_count": 2,
   "id": "4f96df65",
   "metadata": {},
   "outputs": [
    {
     "data": {
      "text/plain": [
       "datetime.datetime(2025, 9, 18, 15, 9, 1, 393884)"
      ]
     },
     "execution_count": 2,
     "metadata": {},
     "output_type": "execute_result"
    }
   ],
   "source": [
    "today = datetime.today()\n",
    "today"
   ]
  },
  {
   "cell_type": "code",
   "execution_count": 3,
   "id": "feec0932",
   "metadata": {},
   "outputs": [
    {
     "data": {
      "text/plain": [
       "'20250918'"
      ]
     },
     "execution_count": 3,
     "metadata": {},
     "output_type": "execute_result"
    }
   ],
   "source": [
    "todays_Date = today.strftime(\"%Y%m%d\")\n",
    "todays_Date"
   ]
  },
  {
   "cell_type": "code",
   "execution_count": 4,
   "id": "ab8dcf75",
   "metadata": {},
   "outputs": [],
   "source": [
    "s3_client = boto3.client('s3')"
   ]
  },
  {
   "cell_type": "code",
   "execution_count": 5,
   "id": "b3474d0b",
   "metadata": {},
   "outputs": [],
   "source": [
    "bucket_name = 's3-object-organize'"
   ]
  },
  {
   "cell_type": "code",
   "execution_count": 6,
   "id": "8764ea91",
   "metadata": {},
   "outputs": [],
   "source": [
    "list_objects_response = s3_client.list_objects_v2(Bucket = bucket_name)"
   ]
  },
  {
   "cell_type": "code",
   "execution_count": 7,
   "id": "472296b8",
   "metadata": {},
   "outputs": [
    {
     "data": {
      "text/plain": [
       "{'ResponseMetadata': {'RequestId': '0X1YYZM8SP4MH9HR',\n",
       "  'HostId': '5nYMR9ALYrZu9QaybH4h5357d/4RZPV2MoLwJzl/5cEvbUeFgk55OpO3GCm/WNIUfhaJV1lga90=',\n",
       "  'HTTPStatusCode': 200,\n",
       "  'HTTPHeaders': {'x-amz-id-2': '5nYMR9ALYrZu9QaybH4h5357d/4RZPV2MoLwJzl/5cEvbUeFgk55OpO3GCm/WNIUfhaJV1lga90=',\n",
       "   'x-amz-request-id': '0X1YYZM8SP4MH9HR',\n",
       "   'date': 'Thu, 18 Sep 2025 09:39:04 GMT',\n",
       "   'x-amz-bucket-region': 'us-east-1',\n",
       "   'content-type': 'application/xml',\n",
       "   'transfer-encoding': 'chunked',\n",
       "   'server': 'AmazonS3'},\n",
       "  'RetryAttempts': 0},\n",
       " 'IsTruncated': False,\n",
       " 'Contents': [{'Key': '20250918/',\n",
       "   'LastModified': datetime.datetime(2025, 9, 18, 9, 11, 56, tzinfo=tzutc()),\n",
       "   'ETag': '\"d41d8cd98f00b204e9800998ecf8427e\"',\n",
       "   'ChecksumAlgorithm': ['CRC32'],\n",
       "   'ChecksumType': 'FULL_OBJECT',\n",
       "   'Size': 0,\n",
       "   'StorageClass': 'STANDARD'},\n",
       "  {'Key': '20250918/toy1.webp',\n",
       "   'LastModified': datetime.datetime(2025, 9, 18, 9, 11, 56, tzinfo=tzutc()),\n",
       "   'ETag': '\"7fbaf0c81b92d19ed10f212a5362b628\"',\n",
       "   'ChecksumAlgorithm': ['CRC64NVME'],\n",
       "   'ChecksumType': 'FULL_OBJECT',\n",
       "   'Size': 16976,\n",
       "   'StorageClass': 'STANDARD'},\n",
       "  {'Key': '20250918/toy2.webp',\n",
       "   'LastModified': datetime.datetime(2025, 9, 18, 9, 11, 57, tzinfo=tzutc()),\n",
       "   'ETag': '\"4a3a4bf5a03d148e511b6e6bda01296d\"',\n",
       "   'ChecksumAlgorithm': ['CRC64NVME'],\n",
       "   'ChecksumType': 'FULL_OBJECT',\n",
       "   'Size': 9094,\n",
       "   'StorageClass': 'STANDARD'},\n",
       "  {'Key': '20250918/toy3.webp',\n",
       "   'LastModified': datetime.datetime(2025, 9, 18, 9, 11, 58, tzinfo=tzutc()),\n",
       "   'ETag': '\"92e37db0bf158d340140b3a3635eb97a\"',\n",
       "   'ChecksumAlgorithm': ['CRC64NVME'],\n",
       "   'ChecksumType': 'FULL_OBJECT',\n",
       "   'Size': 13942,\n",
       "   'StorageClass': 'STANDARD'},\n",
       "  {'Key': '20250918/toy4.webp',\n",
       "   'LastModified': datetime.datetime(2025, 9, 18, 9, 11, 58, tzinfo=tzutc()),\n",
       "   'ETag': '\"1137504c9e7f6affba0cb677e5cb89aa\"',\n",
       "   'ChecksumAlgorithm': ['CRC64NVME'],\n",
       "   'ChecksumType': 'FULL_OBJECT',\n",
       "   'Size': 10170,\n",
       "   'StorageClass': 'STANDARD'}],\n",
       " 'Name': 's3-object-organize',\n",
       " 'Prefix': '',\n",
       " 'MaxKeys': 1000,\n",
       " 'EncodingType': 'url',\n",
       " 'KeyCount': 5}"
      ]
     },
     "execution_count": 7,
     "metadata": {},
     "output_type": "execute_result"
    }
   ],
   "source": [
    "list_objects_response"
   ]
  },
  {
   "cell_type": "code",
   "execution_count": 8,
   "id": "c2bb4eab",
   "metadata": {},
   "outputs": [
    {
     "data": {
      "text/plain": [
       "[{'Key': '20250918/',\n",
       "  'LastModified': datetime.datetime(2025, 9, 18, 9, 11, 56, tzinfo=tzutc()),\n",
       "  'ETag': '\"d41d8cd98f00b204e9800998ecf8427e\"',\n",
       "  'ChecksumAlgorithm': ['CRC32'],\n",
       "  'ChecksumType': 'FULL_OBJECT',\n",
       "  'Size': 0,\n",
       "  'StorageClass': 'STANDARD'},\n",
       " {'Key': '20250918/toy1.webp',\n",
       "  'LastModified': datetime.datetime(2025, 9, 18, 9, 11, 56, tzinfo=tzutc()),\n",
       "  'ETag': '\"7fbaf0c81b92d19ed10f212a5362b628\"',\n",
       "  'ChecksumAlgorithm': ['CRC64NVME'],\n",
       "  'ChecksumType': 'FULL_OBJECT',\n",
       "  'Size': 16976,\n",
       "  'StorageClass': 'STANDARD'},\n",
       " {'Key': '20250918/toy2.webp',\n",
       "  'LastModified': datetime.datetime(2025, 9, 18, 9, 11, 57, tzinfo=tzutc()),\n",
       "  'ETag': '\"4a3a4bf5a03d148e511b6e6bda01296d\"',\n",
       "  'ChecksumAlgorithm': ['CRC64NVME'],\n",
       "  'ChecksumType': 'FULL_OBJECT',\n",
       "  'Size': 9094,\n",
       "  'StorageClass': 'STANDARD'},\n",
       " {'Key': '20250918/toy3.webp',\n",
       "  'LastModified': datetime.datetime(2025, 9, 18, 9, 11, 58, tzinfo=tzutc()),\n",
       "  'ETag': '\"92e37db0bf158d340140b3a3635eb97a\"',\n",
       "  'ChecksumAlgorithm': ['CRC64NVME'],\n",
       "  'ChecksumType': 'FULL_OBJECT',\n",
       "  'Size': 13942,\n",
       "  'StorageClass': 'STANDARD'},\n",
       " {'Key': '20250918/toy4.webp',\n",
       "  'LastModified': datetime.datetime(2025, 9, 18, 9, 11, 58, tzinfo=tzutc()),\n",
       "  'ETag': '\"1137504c9e7f6affba0cb677e5cb89aa\"',\n",
       "  'ChecksumAlgorithm': ['CRC64NVME'],\n",
       "  'ChecksumType': 'FULL_OBJECT',\n",
       "  'Size': 10170,\n",
       "  'StorageClass': 'STANDARD'}]"
      ]
     },
     "execution_count": 8,
     "metadata": {},
     "output_type": "execute_result"
    }
   ],
   "source": [
    "get_contents = list_objects_response.get('Contents')\n",
    "get_contents"
   ]
  },
  {
   "cell_type": "code",
   "execution_count": 9,
   "id": "f5e8635a",
   "metadata": {},
   "outputs": [
    {
     "data": {
      "text/plain": [
       "['20250918/',\n",
       " '20250918/toy1.webp',\n",
       " '20250918/toy2.webp',\n",
       " '20250918/toy3.webp',\n",
       " '20250918/toy4.webp']"
      ]
     },
     "execution_count": 9,
     "metadata": {},
     "output_type": "execute_result"
    }
   ],
   "source": [
    "get_all_s3_objects_and_folders = []\n",
    "\n",
    "for i in get_contents:\n",
    "    s3_object_name = i.get('Key')\n",
    "    get_all_s3_objects_and_folders.append(s3_object_name)\n",
    "\n",
    "\n",
    "get_all_s3_objects_and_folders"
   ]
  },
  {
   "cell_type": "code",
   "execution_count": 10,
   "id": "28659c40",
   "metadata": {},
   "outputs": [],
   "source": [
    "s3_folder_name = todays_Date+ \"/\""
   ]
  },
  {
   "cell_type": "code",
   "execution_count": 11,
   "id": "e93e87a2",
   "metadata": {},
   "outputs": [
    {
     "data": {
      "text/plain": [
       "'20250918/'"
      ]
     },
     "execution_count": 11,
     "metadata": {},
     "output_type": "execute_result"
    }
   ],
   "source": [
    "s3_folder_name"
   ]
  },
  {
   "cell_type": "code",
   "execution_count": 12,
   "id": "3a9b45b0",
   "metadata": {},
   "outputs": [],
   "source": [
    "if s3_folder_name not in get_all_s3_objects_and_folders:\n",
    "    s3_client.put_object(Bucket=bucket_name, Key=(s3_folder_name))"
   ]
  },
  {
   "cell_type": "code",
   "execution_count": 13,
   "id": "c9a4fd7d",
   "metadata": {},
   "outputs": [
    {
     "name": "stdout",
     "output_type": "stream",
     "text": [
      "20250918/ and 20250918/\n",
      "20250918/\n",
      "20250918/ and 20250918/\n",
      "20250918/toy1.webp\n",
      "20250918/ and 20250918/\n",
      "20250918/toy2.webp\n",
      "20250918/ and 20250918/\n",
      "20250918/toy3.webp\n",
      "20250918/ and 20250918/\n",
      "20250918/toy4.webp\n"
     ]
    }
   ],
   "source": [
    "for i in get_contents:\n",
    "    object_creation_date = i.get('LastModified').strftime(\"%Y%m%d\") + \"/\"\n",
    "    object_name = i.get('Key')\n",
    "    print(object_creation_date, \"and\", s3_folder_name)\n",
    "    print(object_name)\n",
    "    if object_creation_date == s3_folder_name and \"/\" not in object_name:\n",
    "        s3_client.copy_object(Bucket=bucket_name, CopySource= bucket_name+\"/\"+object_name, Key=s3_folder_name+object_name)\n",
    "        s3_client.delete_object(Bucket=bucket_name, Key=object_name)\n"
   ]
  }
 ],
 "metadata": {
  "kernelspec": {
   "display_name": "Python 3",
   "language": "python",
   "name": "python3"
  },
  "language_info": {
   "codemirror_mode": {
    "name": "ipython",
    "version": 3
   },
   "file_extension": ".py",
   "mimetype": "text/x-python",
   "name": "python",
   "nbconvert_exporter": "python",
   "pygments_lexer": "ipython3",
   "version": "3.13.7"
  }
 },
 "nbformat": 4,
 "nbformat_minor": 5
}
